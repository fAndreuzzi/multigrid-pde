{
 "cells": [
  {
   "cell_type": "code",
   "execution_count": 366,
   "id": "recreational-seller",
   "metadata": {},
   "outputs": [],
   "source": [
    "import numpy as np\n",
    "from numpy.lib.stride_tricks import sliding_window_view\n",
    "import scipy.sparse as sp\n",
    "import matplotlib.pyplot as plt\n",
    "\n",
    "from abc import ABC"
   ]
  },
  {
   "cell_type": "code",
   "execution_count": 2,
   "id": "black-senegal",
   "metadata": {},
   "outputs": [],
   "source": [
    "# to be implemented\n",
    "class Restriction(ABC):\n",
    "    @staticmethod\n",
    "    def restrict(x):\n",
    "        pass\n",
    "    \n",
    "    @staticmethod\n",
    "    def matrix(x):\n",
    "        pass\n",
    "    \n",
    "# to be implemented\n",
    "class Prolongation(ABC):\n",
    "    @staticmethod\n",
    "    def prolong(x):\n",
    "        pass\n",
    "    \n",
    "    @staticmethod\n",
    "    def matrix(x):\n",
    "        pass"
   ]
  },
  {
   "cell_type": "code",
   "execution_count": 392,
   "id": "surprised-times",
   "metadata": {},
   "outputs": [],
   "source": [
    "def jacobi(A, f, vh):\n",
    "    r = f - A.dot(vh)\n",
    "    return vh + sp.diags(1 / A.diagonal()).dot(r)"
   ]
  },
  {
   "cell_type": "code",
   "execution_count": 335,
   "id": "covered-vision",
   "metadata": {},
   "outputs": [],
   "source": [
    "class FemProlongation(Prolongation):\n",
    "    @staticmethod\n",
    "    def prolong(x):\n",
    "        return FemProlongation.matrix(x).dot(x)\n",
    "\n",
    "    @staticmethod\n",
    "    def matrix(x):\n",
    "        l = len(x)\n",
    "        data = np.tile((.5, 1, .5), l)\n",
    "        rows = (np.array([0,1,2])[None] + np.array([2])[None] * np.arange(l)[:,None]).flatten()\n",
    "        cols = (np.array([0,0,0])[None] + np.array([1])[None] * np.arange(l)[:,None]).flatten()\n",
    "        return sp.coo_matrix((data, (rows, cols)))\n",
    "\n",
    "class WeightedRestriction(Restriction):\n",
    "    @staticmethod\n",
    "    def restrict(x):\n",
    "        return WeightedRestriction.matrix(x).dot(x)\n",
    "\n",
    "    @staticmethod\n",
    "    def matrix(x):\n",
    "        l = len(x) // 2\n",
    "        data = np.tile((.5, 1, .5), l)\n",
    "        cols = (np.array([0,1,2])[None] + np.array([2])[None] * np.arange(l)[:,None]).flatten()\n",
    "        rows = (np.array([0,0,0])[None] + np.array([1])[None] * np.arange(l)[:,None]).flatten()\n",
    "        return sp.coo_matrix((data, (rows, cols)))"
   ]
  },
  {
   "cell_type": "code",
   "execution_count": 391,
   "id": "human-depression",
   "metadata": {},
   "outputs": [],
   "source": [
    "def multigrid(Ah, fh, smoother_info, hm, hm_threshold, restriction, prolongation, vh=None, gamma=1):\n",
    "    \"\"\"\n",
    "    v1: pre-smoothing\n",
    "    v2: post-smoothing\n",
    "    smoother: (A, f, vh) -> vh'\n",
    "    \"\"\"\n",
    "    smoother, v1, v2 = smoother_info\n",
    "    \n",
    "    if vh is None:\n",
    "        vh = np.zeros_like(fh)\n",
    "    \n",
    "    for _ in range(v1):\n",
    "        vh = smoother(Ah, fh, vh)\n",
    "    \n",
    "    if hm == hm_threshold:\n",
    "        vh = np.linalg.solve(Ah, fh)\n",
    "    else:\n",
    "        f2h = restriction.restrict(fh - Ah.dot(vh))\n",
    "        restricted_vh = restriction.restrict(vh)\n",
    "        v2h = np.zeros_like(restricted_vh)\n",
    "        \n",
    "        pvh = prolongation.matrix(restricted_vh)\n",
    "        rvh = restriction.matrix(vh)\n",
    "        A2h = rvh.dot(Ah.dot(pvh.toarray()))\n",
    "        for _ in range(gamma):\n",
    "            v2h = multigrid(A2h, f2h, smoother_info, hm + 1, hm_threshold, \n",
    "                            restriction, prolongation, vh=v2h, gamma=gamma)\n",
    "        vh += prolongation.prolong(v2h)\n",
    "    \n",
    "    for _ in range(v2):\n",
    "        vh = smoother(Ah, fh, vh)\n",
    "        \n",
    "    return vh"
   ]
  },
  {
   "cell_type": "markdown",
   "id": "secret-peeing",
   "metadata": {},
   "source": [
    "## Model problem"
   ]
  },
  {
   "cell_type": "code",
   "execution_count": 398,
   "id": "russian-sweet",
   "metadata": {
    "scrolled": false
   },
   "outputs": [
    {
     "data": {
      "image/png": "[encoded data removed]",
      "text/plain": [
       "<Figure size 432x288 with 1 Axes>"
      ]
     },
     "metadata": {
      "needs_background": "light"
     },
     "output_type": "display_data"
    }
   ],
   "source": [
    "def homo_diffusion_problem(N, rhs_f, a=0, b=1):\n",
    "    omega = np.linspace(a,b,N)\n",
    "    h = omega[1] - omega[0]\n",
    "    inverse_squared_h = 1/(h**2)\n",
    "    data = np.diag(np.full(N-1, -inverse_squared_h), -1) + np.diag(np.full(N-1, -inverse_squared_h), 1) \\\n",
    "            + np.diag(np.full(N, 2*inverse_squared_h))\n",
    "    data[[0,-1]] = 0\n",
    "    data[0,0] = data[-1,-1] = 1\n",
    "    return omega, data, rhs_f(omega)\n",
    "\n",
    "omega, A, rhs = homo_diffusion_problem(1023, np.sin, b=np.pi)\n",
    "out = multigrid(A, rhs, (jacobi, 3, 3), 0, 3, WeightedRestriction, FemProlongation)\n",
    "\n",
    "plt.plot(omega, rhs)\n",
    "plt.plot(omega, out);"
   ]
  }
 ],
 "metadata": {
  "kernelspec": {
   "display_name": "Python 3 (ipykernel)",
   "language": "python",
   "name": "python3"
  },
  "language_info": {
   "codemirror_mode": {
    "name": "ipython",
    "version": 3
   },
   "file_extension": ".py",
   "mimetype": "text/x-python",
   "name": "python",
   "nbconvert_exporter": "python",
   "pygments_lexer": "ipython3",
   "version": "3.9.13"
  }
 },
 "nbformat": 4,
 "nbformat_minor": 5
}
