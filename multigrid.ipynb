{
 "cells": [
  {
   "cell_type": "code",
   "execution_count": 1,
   "id": "banned-bridges",
   "metadata": {},
   "outputs": [],
   "source": [
    "import numpy as np\n",
    "from numpy.lib.stride_tricks import sliding_window_view\n",
    "import scipy.sparse as sp\n",
    "import matplotlib.pyplot as plt\n",
    "\n",
    "from abc import ABC"
   ]
  },
  {
   "cell_type": "markdown",
   "id": "light-rebecca",
   "metadata": {},
   "source": [
    "## Interpolation/Prolongation in 1D"
   ]
  },
  {
   "cell_type": "code",
   "execution_count": 2,
   "id": "surprising-lighter",
   "metadata": {},
   "outputs": [],
   "source": [
    "# to be implemented\n",
    "class Restriction(ABC):\n",
    "    @staticmethod\n",
    "    def restrict(x):\n",
    "        pass\n",
    "    \n",
    "    @staticmethod\n",
    "    def matrix(x):\n",
    "        pass\n",
    "    \n",
    "# to be implemented\n",
    "class Prolongation(ABC):\n",
    "    @staticmethod\n",
    "    def prolong(x):\n",
    "        pass\n",
    "    \n",
    "    @staticmethod\n",
    "    def matrix(x):\n",
    "        pass"
   ]
  },
  {
   "cell_type": "code",
   "execution_count": 3,
   "id": "enclosed-building",
   "metadata": {},
   "outputs": [],
   "source": [
    "class FemProlongation(Prolongation):\n",
    "    @staticmethod\n",
    "    def prolong(x):\n",
    "        return FemProlongation.matrix(x).dot(x)\n",
    "\n",
    "    @staticmethod\n",
    "    def matrix(x):\n",
    "        l = len(x)\n",
    "        data = np.tile((.5, 1, .5), l)\n",
    "        rows = (np.array([0,1,2])[None] + np.array([2])[None] * np.arange(l)[:,None]).flatten()\n",
    "        cols = (np.array([0,0,0])[None] + np.array([1])[None] * np.arange(l)[:,None]).flatten()\n",
    "        return sp.coo_matrix((data, (rows, cols))).tocsr()\n",
    "\n",
    "class WeightedRestriction(Restriction):\n",
    "    @staticmethod\n",
    "    def restrict(x):\n",
    "        return WeightedRestriction.matrix(x).dot(x)\n",
    "\n",
    "    @staticmethod\n",
    "    def matrix(x):\n",
    "        l = len(x) // 2\n",
    "        data = np.tile((.25, .5, .25), l)\n",
    "        cols = (np.array([0,1,2])[None] + np.array([2])[None] * np.arange(l)[:,None]).flatten()\n",
    "        rows = (np.array([0,0,0])[None] + np.array([1])[None] * np.arange(l)[:,None]).flatten()\n",
    "        return sp.coo_matrix((data, (rows, cols))).tocsr()"
   ]
  },
  {
   "cell_type": "code",
   "execution_count": 4,
   "id": "residential-league",
   "metadata": {},
   "outputs": [],
   "source": [
    "def jacobi(A, f, vh):\n",
    "    r = f - A.dot(vh)\n",
    "    return vh + sp.diags(1 / A.diagonal()).dot(r)"
   ]
  },
  {
   "cell_type": "code",
   "execution_count": 5,
   "id": "optical-brother",
   "metadata": {},
   "outputs": [],
   "source": [
    "def multigrid(Ah, fh, smoother_info, hm, hm_threshold, restriction, prolongation, vh=None, gamma=1):\n",
    "    \"\"\"\n",
    "    v1: pre-smoothing\n",
    "    v2: post-smoothing\n",
    "    smoother: (A, f, vh) -> vh'\n",
    "    \"\"\"\n",
    "    smoother, v1, v2 = smoother_info\n",
    "    \n",
    "    if vh is None:\n",
    "        vh = np.zeros_like(fh)\n",
    "    \n",
    "    for _ in range(v1):\n",
    "        vh = smoother(Ah, fh, vh)\n",
    "    \n",
    "    if hm == hm_threshold:\n",
    "        vh = np.linalg.solve(Ah, fh)\n",
    "    else:\n",
    "        f2h = restriction.restrict(fh - Ah.dot(vh))\n",
    "        restricted_vh = restriction.restrict(vh)\n",
    "        v2h = np.zeros_like(restricted_vh)\n",
    "        \n",
    "        pvh = prolongation.matrix(restricted_vh)\n",
    "        rvh = restriction.matrix(vh)\n",
    "        A2h = rvh.dot(Ah.dot(pvh.toarray()))\n",
    "        for _ in range(gamma):\n",
    "            v2h = multigrid(A2h, f2h, smoother_info, hm + 1, hm_threshold, \n",
    "                            restriction, prolongation, vh=v2h, gamma=gamma)\n",
    "        vh += prolongation.prolong(v2h)\n",
    "    \n",
    "    for _ in range(v2):\n",
    "        vh = smoother(Ah, fh, vh)\n",
    "        \n",
    "    return vh"
   ]
  },
  {
   "cell_type": "markdown",
   "id": "young-furniture",
   "metadata": {},
   "source": [
    "## 1D Model problem"
   ]
  },
  {
   "cell_type": "code",
   "execution_count": 6,
   "id": "portuguese-bedroom",
   "metadata": {
    "scrolled": false
   },
   "outputs": [
    {
     "data": {
      "image/png": "[encoded data removed]",
      "text/plain": [
       "<Figure size 432x288 with 1 Axes>"
      ]
     },
     "metadata": {
      "needs_background": "light"
     },
     "output_type": "display_data"
    }
   ],
   "source": [
    "def homo_diffusion_problem(N, rhs_f, a=0, b=1):\n",
    "    omega = np.linspace(a,b,N)\n",
    "    h = omega[1] - omega[0]\n",
    "    inverse_squared_h = 1/(h**2)\n",
    "    A = np.diag(np.full(N-1, -inverse_squared_h), -1) + np.diag(np.full(N-1, -inverse_squared_h), 1) \\\n",
    "            + np.diag(np.full(N, 2*inverse_squared_h))\n",
    "    A[[0,-1]] = 0\n",
    "    A[0,0] = A[-1,-1] = 1\n",
    "    return omega, A, rhs_f(omega)\n",
    "\n",
    "omega, A, rhs = homo_diffusion_problem(1023, np.sin, b=np.pi)\n",
    "out = multigrid(A, rhs, (jacobi, 3, 3), 0, 3, WeightedRestriction, FemProlongation)\n",
    "\n",
    "plt.plot(omega, rhs)\n",
    "plt.plot(omega, out);"
   ]
  },
  {
   "cell_type": "markdown",
   "id": "helpful-bulgarian",
   "metadata": {},
   "source": [
    "## Interpolation/Prolongation in 2D"
   ]
  },
  {
   "cell_type": "code",
   "execution_count": 7,
   "id": "solved-queens",
   "metadata": {},
   "outputs": [],
   "source": [
    "class Prolongation2D(Prolongation):    \n",
    "    @staticmethod\n",
    "    def prolong(x):\n",
    "        return Prolongation2D.matrix(x).dot(x[0])\n",
    "\n",
    "    @staticmethod\n",
    "    def matrix(x):\n",
    "        u, nx, ny = x\n",
    "        return sp.kron(FemProlongation.matrix(np.empty(ny)), FemProlongation.matrix(np.empty(nx))).tocsr()\n",
    "\n",
    "class InjectionRestriction2D(Restriction):\n",
    "    @staticmethod\n",
    "    def restrict(x):\n",
    "        return InjectionRestriction2D.matrix(x).dot(x[0])\n",
    "\n",
    "    @staticmethod\n",
    "    def matrix(x):\n",
    "        u, nx, ny = x\n",
    "        nxp, nyp = (nx+1) // 2 - 1, (ny+1) // 2 - 1\n",
    "        data = np.ones(nxp*nyp)\n",
    "        rows = np.arange(nxp*nyp)\n",
    "        cols = (np.linspace(0, nx, nxp, dtype=int, endpoint=False)[None] \\\n",
    "                + np.linspace(0, ny - 1, nyp, dtype=int)[:,None] * nx).flatten()\n",
    "        return sp.coo_matrix((data, (rows, cols)), shape=(nxp*nyp, nx*ny))"
   ]
  },
  {
   "cell_type": "markdown",
   "id": "genuine-brazil",
   "metadata": {},
   "source": [
    "## 2D Model problem"
   ]
  },
  {
   "cell_type": "code",
   "execution_count": 8,
   "id": "considered-funds",
   "metadata": {},
   "outputs": [],
   "source": [
    "def homo_diffusion_problem_2d(omega, N, rhs_f):\n",
    "    Nx, Ny = N\n",
    "    \n",
    "    data = (-np.ones((Ny-1)*Nx), -np.ones(Nx*Ny-1), 4*np.ones(Nx*Ny), \\\n",
    "            -np.ones(Nx*Ny-1), -np.ones((Nx-1)*Ny))\n",
    "    A = sp.diags(data, (-Nx, -1, 0, 1, Ny), shape=(Nx*Ny, Nx*Ny), format='csr')\n",
    "    \n",
    "    x = np.linspace(*omega[0], Nx)\n",
    "    y = np.linspace(*omega[1], Ny)\n",
    "\n",
    "    hx = x[1] - x[0]\n",
    "    hy = y[1] - y[0]\n",
    "    \n",
    "    X,Y = np.meshgrid(x, y)\n",
    "    X = X.flatten()\n",
    "    Y = Y.flatten()\n",
    "    \n",
    "    return (X,Y), A, rhs_f(X,Y)"
   ]
  },
  {
   "cell_type": "code",
   "execution_count": 9,
   "id": "threatened-privilege",
   "metadata": {},
   "outputs": [
    {
     "data": {
      "image/png": "[encoded data removed]",
      "text/plain": [
       "<Figure size 1440x504 with 3 Axes>"
      ]
     },
     "metadata": {
      "needs_background": "light"
     },
     "output_type": "display_data"
    }
   ],
   "source": [
    "omega = np.zeros((2,2))\n",
    "omega[[0,1],1] = np.pi\n",
    "nx, ny = (31,31)\n",
    "\n",
    "def f(x,y):\n",
    "    return np.sin(x) * np.sin(y)\n",
    "\n",
    "(X,Y), A, rhs = homo_diffusion_problem_2d(omega, (nx,ny), f)\n",
    "\n",
    "plt.figure(figsize=(20,7))\n",
    "\n",
    "plt.subplot(1,3,1)\n",
    "plt.pcolormesh(f(X,Y).reshape(ny, nx))\n",
    "\n",
    "plt.subplot(1,3,2)\n",
    "u = Prolongation2D.prolong((f(X,Y), nx, ny))\n",
    "plt.pcolormesh(u.reshape((ny+1)*2-1, (nx+1)*2-1))\n",
    "\n",
    "plt.subplot(1,3,3)\n",
    "plt.pcolormesh(InjectionRestriction2D.restrict((u, (nx+1)*2-1, (ny+1)*2-1)).reshape(ny, nx));"
   ]
  }
 ],
 "metadata": {
  "kernelspec": {
   "display_name": "Python 3 (ipykernel)",
   "language": "python",
   "name": "python3"
  },
  "language_info": {
   "codemirror_mode": {
    "name": "ipython",
    "version": 3
   },
   "file_extension": ".py",
   "mimetype": "text/x-python",
   "name": "python",
   "nbconvert_exporter": "python",
   "pygments_lexer": "ipython3",
   "version": "3.9.13"
  }
 },
 "nbformat": 4,
 "nbformat_minor": 5
}
